{
 "cells": [
  {
   "cell_type": "code",
   "execution_count": 1,
   "metadata": {
    "collapsed": false,
    "deletable": true,
    "editable": true,
    "jupyter": {
     "outputs_hidden": false
    }
   },
   "outputs": [
    {
     "data": {
      "text/plain": [
       "['Afghanistan', 'Albania', 'Algeria', 'Andorra', 'Angola']"
      ]
     },
     "execution_count": 1,
     "metadata": {},
     "output_type": "execute_result"
    }
   ],
   "source": [
    "import pandas as pd\n",
    "\n",
    "country_headers = ['name', 'formal_name', 'code2', 'code3', 'who', 'cares', 'blah']\n",
    "cf = pd.read_csv('countries.csv', names=country_headers, keep_default_na=False)\n",
    "names = list(cf.name)\n",
    "\n",
    "names[:5]"
   ]
  },
  {
   "cell_type": "code",
   "execution_count": 2,
   "metadata": {
    "collapsed": false,
    "deletable": true,
    "editable": true,
    "jupyter": {
     "outputs_hidden": false
    }
   },
   "outputs": [
    {
     "data": {
      "text/plain": [
       "[('Austra', 'Australia'),\n",
       " ('Austri', 'Austria'),\n",
       " ('Auk', 'Aukland'),\n",
       " ('Al', 'Albania'),\n",
       " ('C', 'Canada')]"
      ]
     },
     "execution_count": 2,
     "metadata": {},
     "output_type": "execute_result"
    }
   ],
   "source": [
    "from Trie import Trie\n",
    "                \n",
    "T = Trie()\n",
    "T.add_string(\"Australia\")\n",
    "T.add_string(\"Austria\")\n",
    "T.add_string(\"Aukland\")\n",
    "T.add_string(\"Albania\")\n",
    "T.add_string(\"Canada\")\n",
    "[_ for _ in T.shortest_unique_prefixes()]"
   ]
  },
  {
   "cell_type": "code",
   "execution_count": 3,
   "metadata": {
    "collapsed": false,
    "deletable": true,
    "editable": true,
    "jupyter": {
     "outputs_hidden": false
    }
   },
   "outputs": [
    {
     "data": {
      "text/plain": [
       "[('Af', 'Afghanistan'),\n",
       " ('Alb', 'Albania'),\n",
       " ('Alg', 'Algeria'),\n",
       " ('And', 'Andorra'),\n",
       " ('Ang', 'Angola')]"
      ]
     },
     "execution_count": 3,
     "metadata": {},
     "output_type": "execute_result"
    }
   ],
   "source": [
    "T = Trie()\n",
    "for name in names:\n",
    "    T.add_string(name)\n",
    "    \n",
    "pres = list(T.shortest_unique_prefixes())\n",
    "pres[:5]"
   ]
  },
  {
   "cell_type": "code",
   "execution_count": 4,
   "metadata": {
    "collapsed": false,
    "deletable": true,
    "editable": true,
    "jupyter": {
     "outputs_hidden": false
    }
   },
   "outputs": [
    {
     "data": {
      "text/html": [
       "<div>\n",
       "<style scoped>\n",
       "    .dataframe tbody tr th:only-of-type {\n",
       "        vertical-align: middle;\n",
       "    }\n",
       "\n",
       "    .dataframe tbody tr th {\n",
       "        vertical-align: top;\n",
       "    }\n",
       "\n",
       "    .dataframe thead th {\n",
       "        text-align: right;\n",
       "    }\n",
       "</style>\n",
       "<table border=\"1\" class=\"dataframe\">\n",
       "  <thead>\n",
       "    <tr style=\"text-align: right;\">\n",
       "      <th></th>\n",
       "      <th>pre</th>\n",
       "      <th>name</th>\n",
       "      <th>prelen</th>\n",
       "    </tr>\n",
       "  </thead>\n",
       "  <tbody>\n",
       "    <tr>\n",
       "      <th>0</th>\n",
       "      <td>Af</td>\n",
       "      <td>Afghanistan</td>\n",
       "      <td>2</td>\n",
       "    </tr>\n",
       "    <tr>\n",
       "      <th>1</th>\n",
       "      <td>Alb</td>\n",
       "      <td>Albania</td>\n",
       "      <td>3</td>\n",
       "    </tr>\n",
       "    <tr>\n",
       "      <th>2</th>\n",
       "      <td>Alg</td>\n",
       "      <td>Algeria</td>\n",
       "      <td>3</td>\n",
       "    </tr>\n",
       "    <tr>\n",
       "      <th>3</th>\n",
       "      <td>And</td>\n",
       "      <td>Andorra</td>\n",
       "      <td>3</td>\n",
       "    </tr>\n",
       "    <tr>\n",
       "      <th>4</th>\n",
       "      <td>Ang</td>\n",
       "      <td>Angola</td>\n",
       "      <td>3</td>\n",
       "    </tr>\n",
       "  </tbody>\n",
       "</table>\n",
       "</div>"
      ],
      "text/plain": [
       "   pre         name  prelen\n",
       "0   Af  Afghanistan       2\n",
       "1  Alb      Albania       3\n",
       "2  Alg      Algeria       3\n",
       "3  And      Andorra       3\n",
       "4  Ang       Angola       3"
      ]
     },
     "execution_count": 4,
     "metadata": {},
     "output_type": "execute_result"
    }
   ],
   "source": [
    "# We'll code \"no unique prefix\" as prefix len of -1 just to simplify processing.\n",
    "x = [(a, b, -1 if a is None else len(a)) for (a,b) in pres]\n",
    "predf = pd.DataFrame(x, columns=['pre', 'name', 'prelen'])\n",
    "predf.head()"
   ]
  },
  {
   "cell_type": "code",
   "execution_count": 5,
   "metadata": {
    "collapsed": false,
    "deletable": true,
    "editable": true,
    "jupyter": {
     "outputs_hidden": false
    }
   },
   "outputs": [
    {
     "data": {
      "text/html": [
       "<div>\n",
       "<style scoped>\n",
       "    .dataframe tbody tr th:only-of-type {\n",
       "        vertical-align: middle;\n",
       "    }\n",
       "\n",
       "    .dataframe tbody tr th {\n",
       "        vertical-align: top;\n",
       "    }\n",
       "\n",
       "    .dataframe thead th {\n",
       "        text-align: right;\n",
       "    }\n",
       "</style>\n",
       "<table border=\"1\" class=\"dataframe\">\n",
       "  <thead>\n",
       "    <tr style=\"text-align: right;\">\n",
       "      <th></th>\n",
       "      <th>pre</th>\n",
       "      <th>name</th>\n",
       "      <th>prelen</th>\n",
       "      <th>formal_name</th>\n",
       "      <th>code2</th>\n",
       "      <th>code3</th>\n",
       "      <th>who</th>\n",
       "      <th>cares</th>\n",
       "      <th>blah</th>\n",
       "    </tr>\n",
       "  </thead>\n",
       "  <tbody>\n",
       "    <tr>\n",
       "      <th>0</th>\n",
       "      <td>Af</td>\n",
       "      <td>Afghanistan</td>\n",
       "      <td>2</td>\n",
       "      <td>Islamic Republic of Afghanistan</td>\n",
       "      <td>AF</td>\n",
       "      <td>AFG</td>\n",
       "      <td>33.982993</td>\n",
       "      <td>66.391594</td>\n",
       "      <td>6</td>\n",
       "    </tr>\n",
       "    <tr>\n",
       "      <th>1</th>\n",
       "      <td>Alb</td>\n",
       "      <td>Albania</td>\n",
       "      <td>3</td>\n",
       "      <td>Republic of Albania</td>\n",
       "      <td>AL</td>\n",
       "      <td>ALB</td>\n",
       "      <td>41.000174</td>\n",
       "      <td>19.871700</td>\n",
       "      <td>7</td>\n",
       "    </tr>\n",
       "    <tr>\n",
       "      <th>2</th>\n",
       "      <td>Alg</td>\n",
       "      <td>Algeria</td>\n",
       "      <td>3</td>\n",
       "      <td>People's Democratic Republic of Algeria</td>\n",
       "      <td>DZ</td>\n",
       "      <td>DZA</td>\n",
       "      <td>27.898617</td>\n",
       "      <td>3.197712</td>\n",
       "      <td>5</td>\n",
       "    </tr>\n",
       "    <tr>\n",
       "      <th>3</th>\n",
       "      <td>And</td>\n",
       "      <td>Andorra</td>\n",
       "      <td>3</td>\n",
       "      <td>Principality of Andorra</td>\n",
       "      <td>AD</td>\n",
       "      <td>AND</td>\n",
       "      <td>42.540571</td>\n",
       "      <td>1.552013</td>\n",
       "      <td>11</td>\n",
       "    </tr>\n",
       "    <tr>\n",
       "      <th>4</th>\n",
       "      <td>Ang</td>\n",
       "      <td>Angola</td>\n",
       "      <td>3</td>\n",
       "      <td>Republic of Angola</td>\n",
       "      <td>AO</td>\n",
       "      <td>AGO</td>\n",
       "      <td>-12.164697</td>\n",
       "      <td>16.709336</td>\n",
       "      <td>6</td>\n",
       "    </tr>\n",
       "  </tbody>\n",
       "</table>\n",
       "</div>"
      ],
      "text/plain": [
       "   pre         name  prelen                              formal_name code2  \\\n",
       "0   Af  Afghanistan       2          Islamic Republic of Afghanistan    AF   \n",
       "1  Alb      Albania       3                      Republic of Albania    AL   \n",
       "2  Alg      Algeria       3  People's Democratic Republic of Algeria    DZ   \n",
       "3  And      Andorra       3                  Principality of Andorra    AD   \n",
       "4  Ang       Angola       3                       Republic of Angola    AO   \n",
       "\n",
       "  code3        who      cares  blah  \n",
       "0   AFG  33.982993  66.391594     6  \n",
       "1   ALB  41.000174  19.871700     7  \n",
       "2   DZA  27.898617   3.197712     5  \n",
       "3   AND  42.540571   1.552013    11  \n",
       "4   AGO -12.164697  16.709336     6  "
      ]
     },
     "execution_count": 5,
     "metadata": {},
     "output_type": "execute_result"
    }
   ],
   "source": [
    "df = pd.merge(predf, cf, on='name')\n",
    "df.head()"
   ]
  },
  {
   "cell_type": "code",
   "execution_count": 6,
   "metadata": {
    "collapsed": false,
    "deletable": true,
    "editable": true,
    "jupyter": {
     "outputs_hidden": false
    }
   },
   "outputs": [
    {
     "data": {
      "text/plain": [
       "prelen\n",
       "-1      3\n",
       " 1      3\n",
       " 2     56\n",
       " 3     80\n",
       " 4     27\n",
       " 5      4\n",
       " 6      3\n",
       " 7      8\n",
       " 8      4\n",
       " 9      1\n",
       " 12     2\n",
       " 13     2\n",
       "dtype: int64"
      ]
     },
     "execution_count": 6,
     "metadata": {},
     "output_type": "execute_result"
    }
   ],
   "source": [
    "predf.groupby('prelen').size()"
   ]
  },
  {
   "cell_type": "code",
   "execution_count": 8,
   "metadata": {
    "collapsed": false,
    "deletable": true,
    "editable": true,
    "jupyter": {
     "outputs_hidden": false
    }
   },
   "outputs": [],
   "source": [
    "import os\n",
    "\"\"\"So maybe I'll just output an html document here rather than going through matplotlib, since\n",
    "this is basically all text and images - no real charting involved.\n",
    "\"\"\"\n",
    "\n",
    "PREAMBLE = \"\"\"<section id=\"preamble\">\n",
    "<em>Example:</em> <b>Belgium</b> is the only country whose name begins with <b><code>BELG</code></b>. Any shorter prefix, like <code>BEL</code> would be ambiguous with other\\\n",
    " countries (Belarus, Belize), so Belgium's shortest unique prefix length is <b>4</b>.\n",
    "</section>\n",
    "\"\"\"\n",
    "\n",
    "POSTAMBLE = \"\"\"<div id=\"postamble\">\n",
    "<span id=\"data\">English names of UN member states via un.org/en/about-us/member-states</span>\n",
    "<span id=\"sig\">@halfeatenscone</span>\n",
    "</div>\"\"\"\n",
    "\n",
    "def render_doc(df, spoiler=False):\n",
    "    \"\"\"Return the html source of the full infographic as a string.\n",
    "    \"\"\"\n",
    "    s = \"\"\"<html>\n",
    "    <head>\n",
    "      <link rel=\"stylesheet\" href=\"./common.css\">\n",
    "      <link rel=\"stylesheet\" href=\"./{}spoil.css\">\n",
    "    </head>\n",
    "    <body>\n",
    "    <h1>Countries by shortest unique prefix</h1>\n",
    "    \"\"\".format('' if spoiler else 'no')\n",
    "    if not spoiler:\n",
    "        s += PREAMBLE\n",
    "    for presize in range(1, 9):\n",
    "        s += render_section(df, presize, abbrev=spoiler)\n",
    "    s += render_section(df, 9, plus=True, abbrev=spoiler)\n",
    "    s += render_section(df, -1, abbrev=spoiler)\n",
    "    s += POSTAMBLE\n",
    "    s += \"</body></html>\"\n",
    "    return s\n",
    "\n",
    "def render_section(df, prelen, plus=False, abbrev=False):\n",
    "    \"\"\"Render a document section corresponding to the given prefix length.\n",
    "        plus: if True, use all rows with values >= prelen\n",
    "        abbrev: if True, use an abbreviated form of full name (specifically, trim\n",
    "            anything in parentheses. e.g. \"Venezuela (Bolivarian Republic of)\" -> \"Venezuela\"\n",
    "            This is just to cheat out a little more space for text in the 'spoiler' version of the infographic.\n",
    "    \"\"\"\n",
    "    classname = \"len{}\".format('na' if prelen == -1 else prelen)\n",
    "    s = '<section class={}>\\n'.format(classname)\n",
    "    s += '<h2>{}{}</h2>\\n'.format(\n",
    "        \"N/A\" if prelen == -1 else prelen,\n",
    "        '+' if plus else ''\n",
    "    )\n",
    "    s += '<ul id=\"{}\">\\n'.format(classname)\n",
    "    if plus:\n",
    "        rows = df[df.prelen >= prelen]\n",
    "    else:\n",
    "        rows = df[df.prelen == prelen]\n",
    "    for _, row in rows.iterrows():\n",
    "        s += render_row(row, abbrev)\n",
    "    s += '</ul>\\n'\n",
    "    s += '</section>\\n'\n",
    "    return s\n",
    "\n",
    "SVG = 1\n",
    "if SVG:\n",
    "    img_pre = 'countries/data/flags/SVG/'\n",
    "else:\n",
    "    img_pre = 'countries/data/flags/PNG-32/'\n",
    "def render_country_data(pre, suff, code):\n",
    "    if SVG:\n",
    "        img_fname = code + '.svg'\n",
    "    else:\n",
    "        img_fname = code + '-32.png'\n",
    "    img_path = img_pre + img_fname\n",
    "    img_path = 'file://' + os.path.abspath(img_path)\n",
    "    img = '<img class=\"flag\" src=\"{}\" />'.format(img_path)\n",
    "    text = '''<span class=\"name\">\n",
    "    <span class=\"pre\">{}</span><span class=\"suff\">{}</span>\n",
    "    </span>\n",
    "    '''.format(pre, suff)\n",
    "    return '<li>{}{}</li>\\n'.format(img, text)\n",
    "\n",
    "def render_row(row, abbrev=False):\n",
    "    name = row['name']\n",
    "    if abbrev and '(' in name:\n",
    "        name = name[:name.find('(')-1]\n",
    "    if row.prelen == -1:\n",
    "        #return render_country_data(row['name'], '', row.code2)\n",
    "        return render_country_data('', name, row.code2)\n",
    "    return render_country_data(row.pre, name[row.prelen:], row.code2)\n",
    "\n",
    "# Generate two html docs which are identical except that one uses styles.css and the other uses the \"spoilery\" styles of sstyles.css\n",
    "doca = render_doc(df)\n",
    "with open('pres.html', 'w') as f:\n",
    "    f.write(doca)\n",
    "docb = render_doc(df, spoiler=True)\n",
    "with open('spoilers.html', 'w') as f:\n",
    "    f.write(docb)"
   ]
  }
 ],
 "metadata": {
  "kernelspec": {
   "display_name": "Python 3",
   "language": "python",
   "name": "python3"
  },
  "language_info": {
   "codemirror_mode": {
    "name": "ipython",
    "version": 3
   },
   "file_extension": ".py",
   "mimetype": "text/x-python",
   "name": "python",
   "nbconvert_exporter": "python",
   "pygments_lexer": "ipython3",
   "version": "3.6.9"
  }
 },
 "nbformat": 4,
 "nbformat_minor": 4
}
